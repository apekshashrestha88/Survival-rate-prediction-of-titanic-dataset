{
  "nbformat": 4,
  "nbformat_minor": 0,
  "metadata": {
    "colab": {
      "provenance": [],
      "gpuType": "T4"
    },
    "kernelspec": {
      "name": "python3",
      "display_name": "Python 3"
    },
    "language_info": {
      "name": "python"
    },
    "accelerator": "GPU"
  },
  "cells": [
    {
      "cell_type": "code",
      "source": [
        "from __future__ import absolute_import, division, print_function, unicode_literals\n",
        "\n",
        "import numpy as np\n",
        "import pandas as pd\n",
        "import matplotlib.pyplot as plt\n",
        "from IPython.display import clear_output\n",
        "from six.moves import urllib\n",
        "\n",
        "import tensorflow.compat.v2.feature_column as fc\n",
        "\n",
        "import tensorflow as tf"
      ],
      "metadata": {
        "id": "_x5BsFItrE84"
      },
      "execution_count": 1,
      "outputs": []
    },
    {
      "cell_type": "markdown",
      "source": [],
      "metadata": {
        "id": "VSypbM3FqQj5"
      }
    },
    {
      "cell_type": "code",
      "execution_count": 2,
      "metadata": {
        "colab": {
          "base_uri": "https://localhost:8080/"
        },
        "id": "64Vqb9Ogo3J0",
        "outputId": "2b227446-84df-4a09-b317-fe26fc07a515"
      },
      "outputs": [
        {
          "output_type": "stream",
          "name": "stdout",
          "text": [
            "sex                          male\n",
            "age                          22.0\n",
            "n_siblings_spouses              1\n",
            "parch                           0\n",
            "fare                         7.25\n",
            "class                       Third\n",
            "deck                      unknown\n",
            "embark_town           Southampton\n",
            "alone                           n\n",
            "Name: 0, dtype: object 0\n"
          ]
        }
      ],
      "source": [
        "dftrain=pd.read_csv('https://storage.googleapis.com/tf-datasets/titanic/train.csv')  #training data\n",
        "dfeval=pd.read_csv('https://storage.googleapis.com/tf-datasets/titanic/eval.csv')  #testing data\n",
        "\n",
        "y_train= dftrain.pop('survived')\n",
        "y_eval= dfeval.pop('survived')\n",
        "print(dftrain.loc[0], y_train.loc[0])"
      ]
    },
    {
      "cell_type": "code",
      "source": [
        "categorical_columns=['sex','n_siblings_spouses','parch','class','deck','embark_town','alone']\n",
        "numeric_columns=['age','fare']\n",
        "\n",
        "feature_columns=[]\n",
        "for feature_name in categorical_columns:\n",
        "  vocabulary=dftrain[feature_name].unique()\n",
        "  feature_columns.append(tf.feature_column.categorical_column_with_vocabulary_list(feature_name, vocabulary))\n",
        "\n",
        "for feature_name in numeric_columns:\n",
        "  feature_columns.append(tf.feature_column.numeric_column(feature_name, dtype=tf.float32))\n",
        "\n",
        "print(feature_columns)"
      ],
      "metadata": {
        "colab": {
          "base_uri": "https://localhost:8080/"
        },
        "id": "wlerb1K3G5nu",
        "outputId": "aecc1f9c-973e-45bc-d863-da3c145b78c4"
      },
      "execution_count": 7,
      "outputs": [
        {
          "output_type": "stream",
          "name": "stderr",
          "text": [
            "WARNING:tensorflow:From <ipython-input-7-6114b7fbde4b>:7: categorical_column_with_vocabulary_list (from tensorflow.python.feature_column.feature_column_v2) is deprecated and will be removed in a future version.\n",
            "Instructions for updating:\n",
            "Use Keras preprocessing layers instead, either directly or via the `tf.keras.utils.FeatureSpace` utility. Each of `tf.feature_column.*` has a functional equivalent in `tf.keras.layers` for feature preprocessing when training a Keras model.\n",
            "WARNING:tensorflow:From <ipython-input-7-6114b7fbde4b>:10: numeric_column (from tensorflow.python.feature_column.feature_column_v2) is deprecated and will be removed in a future version.\n",
            "Instructions for updating:\n",
            "Use Keras preprocessing layers instead, either directly or via the `tf.keras.utils.FeatureSpace` utility. Each of `tf.feature_column.*` has a functional equivalent in `tf.keras.layers` for feature preprocessing when training a Keras model.\n"
          ]
        },
        {
          "output_type": "stream",
          "name": "stdout",
          "text": [
            "[VocabularyListCategoricalColumn(key='sex', vocabulary_list=('male', 'female'), dtype=tf.string, default_value=-1, num_oov_buckets=0), VocabularyListCategoricalColumn(key='n_siblings_spouses', vocabulary_list=(1, 0, 3, 4, 2, 5, 8), dtype=tf.int64, default_value=-1, num_oov_buckets=0), VocabularyListCategoricalColumn(key='parch', vocabulary_list=(0, 1, 2, 5, 3, 4), dtype=tf.int64, default_value=-1, num_oov_buckets=0), VocabularyListCategoricalColumn(key='class', vocabulary_list=('Third', 'First', 'Second'), dtype=tf.string, default_value=-1, num_oov_buckets=0), VocabularyListCategoricalColumn(key='deck', vocabulary_list=('unknown', 'C', 'G', 'A', 'B', 'D', 'F', 'E'), dtype=tf.string, default_value=-1, num_oov_buckets=0), VocabularyListCategoricalColumn(key='embark_town', vocabulary_list=('Southampton', 'Cherbourg', 'Queenstown', 'unknown'), dtype=tf.string, default_value=-1, num_oov_buckets=0), VocabularyListCategoricalColumn(key='alone', vocabulary_list=('n', 'y'), dtype=tf.string, default_value=-1, num_oov_buckets=0), NumericColumn(key='age', shape=(1,), default_value=None, dtype=tf.float32, normalizer_fn=None), NumericColumn(key='fare', shape=(1,), default_value=None, dtype=tf.float32, normalizer_fn=None)]\n"
          ]
        }
      ]
    },
    {
      "cell_type": "code",
      "source": [
        "#The Input function:\n",
        "def make_input_fn(data_df, label_df, num_epochs=17,shuffle=True, batch_size=32):\n",
        "  def input_function():   #inner function, this will be returned\n",
        "    ds=tf.data.Dataset.from_tensor_slices((dict(data_df), label_df))  #create tf.data.Dataset object with data and its label\n",
        "    if shuffle:\n",
        "      ds=ds.shuffle(1000)  #randomize order of data\n",
        "    ds=ds.batch(batch_size).repeat(num_epochs)  #split dataset into batches of 332 and repeat process for number of epochs\n",
        "    return ds   #return a batch of the dataset\n",
        "  return input_function  #return a function object for use\n",
        "\n",
        "train_input_fn=make_input_fn(dftrain, y_train)  #here we will call the input_funcion that was returned to us to get a dataset object we can feed to the model\n",
        "eval_input_fn=make_input_fn(dfeval, y_eval, num_epochs=1, shuffle=False)\n",
        "\n",
        "linear_est=tf.estimator.LinearClassifier(feature_columns=feature_columns)\n",
        "\n",
        "#Training the model:\n",
        "linear_est.train(train_input_fn)   #Train\n",
        "result=linear_est.evaluate(eval_input_fn)  #get model metrices by testing on testing data\n",
        "\n",
        "clear_output()   #clears console output\n",
        "print(result['accuracy'])\n",
        "print(result)"
      ],
      "metadata": {
        "colab": {
          "base_uri": "https://localhost:8080/"
        },
        "id": "6mb_MneP5V0i",
        "outputId": "9fe1c1b1-97fc-4348-fddc-56f0142b458c"
      },
      "execution_count": 10,
      "outputs": [
        {
          "output_type": "stream",
          "name": "stdout",
          "text": [
            "0.7765151\n",
            "{'accuracy': 0.7765151, 'accuracy_baseline': 0.625, 'auc': 0.83602697, 'auc_precision_recall': 0.79034626, 'average_loss': 0.47505262, 'label/mean': 0.375, 'loss': 0.4635958, 'precision': 0.73255813, 'prediction/mean': 0.33507746, 'recall': 0.6363636, 'global_step': 340}\n"
          ]
        }
      ]
    },
    {
      "cell_type": "code",
      "source": [
        "result=list(linear_est.predict(eval_input_fn))  #made it into a list just so we can loop through it\n",
        "print(dfeval.loc[2])\n",
        "print(y_eval.loc[2])\n",
        "print(result[2]['probabilities'][1])"
      ],
      "metadata": {
        "colab": {
          "base_uri": "https://localhost:8080/"
        },
        "id": "QAyBW-fGJuVI",
        "outputId": "a2445ffb-1833-4633-afc6-bb37d5c6e528"
      },
      "execution_count": 19,
      "outputs": [
        {
          "output_type": "stream",
          "name": "stdout",
          "text": [
            "sex                        female\n",
            "age                          58.0\n",
            "n_siblings_spouses              0\n",
            "parch                           0\n",
            "fare                        26.55\n",
            "class                       First\n",
            "deck                            C\n",
            "embark_town           Southampton\n",
            "alone                           y\n",
            "Name: 2, dtype: object\n",
            "1\n",
            "0.60045695\n"
          ]
        }
      ]
    }
  ]
}